{
 "cells": [
  {
   "cell_type": "code",
   "execution_count": 1,
   "id": "ad83fbc4",
   "metadata": {},
   "outputs": [],
   "source": [
    "import pandas as pd\n",
    "import snscrape.modules.twitter as sntwitter"
   ]
  },
  {
   "cell_type": "code",
   "execution_count": 2,
   "id": "04121923",
   "metadata": {},
   "outputs": [],
   "source": [
    "# scrape tweets from jun 1st - jul 31st, 2022\n",
    "query = \"(#30DaysOfLearning OR #NG30DaysOfLearning) until:2022-07-31 since:2022-06-01\"\n",
    "tweets = []    \n",
    "limit = 30000\n",
    "    \n",
    "for tweet in sntwitter.TwitterHashtagScraper(query).get_items():\n",
    "    if len(tweets) == limit: \n",
    "        break \n",
    "    else:        \n",
    "        tweets.append([tweet.date, tweet.url, tweet.user.username, tweet.sourceLabel, tweet.user.location, tweet.content, tweet.likeCount, tweet.retweetCount,  tweet.quoteCount, tweet.replyCount])\n",
    "\n",
    "\n",
    "# convert scraped tweets into a dataframe format        \n",
    "df = pd.DataFrame(tweets, columns=['Date', 'TweetURL','User', 'Source', 'Location', 'Tweet', 'Likes_Count','Retweet_Count', 'Quote_Count', 'Reply_Count'])"
   ]
  },
  {
   "cell_type": "code",
   "execution_count": 3,
   "id": "15495a82",
   "metadata": {},
   "outputs": [
    {
     "data": {
      "text/html": [
       "<div>\n",
       "<style scoped>\n",
       "    .dataframe tbody tr th:only-of-type {\n",
       "        vertical-align: middle;\n",
       "    }\n",
       "\n",
       "    .dataframe tbody tr th {\n",
       "        vertical-align: top;\n",
       "    }\n",
       "\n",
       "    .dataframe thead th {\n",
       "        text-align: right;\n",
       "    }\n",
       "</style>\n",
       "<table border=\"1\" class=\"dataframe\">\n",
       "  <thead>\n",
       "    <tr style=\"text-align: right;\">\n",
       "      <th></th>\n",
       "      <th>Date</th>\n",
       "      <th>TweetURL</th>\n",
       "      <th>User</th>\n",
       "      <th>Source</th>\n",
       "      <th>Location</th>\n",
       "      <th>Tweet</th>\n",
       "      <th>Likes_Count</th>\n",
       "      <th>Retweet_Count</th>\n",
       "      <th>Quote_Count</th>\n",
       "      <th>Reply_Count</th>\n",
       "    </tr>\n",
       "  </thead>\n",
       "  <tbody>\n",
       "    <tr>\n",
       "      <th>0</th>\n",
       "      <td>2022-07-30 23:51:11+00:00</td>\n",
       "      <td>https://twitter.com/_Mdapo/status/155352866383...</td>\n",
       "      <td>_Mdapo</td>\n",
       "      <td>Twitter for Android</td>\n",
       "      <td></td>\n",
       "      <td>I don't have one so I reached out to @GbemiAde...</td>\n",
       "      <td>0</td>\n",
       "      <td>0</td>\n",
       "      <td>0</td>\n",
       "      <td>1</td>\n",
       "    </tr>\n",
       "    <tr>\n",
       "      <th>1</th>\n",
       "      <td>2022-07-30 23:34:15+00:00</td>\n",
       "      <td>https://twitter.com/_Mdapo/status/155352440267...</td>\n",
       "      <td>_Mdapo</td>\n",
       "      <td>Twitter for Android</td>\n",
       "      <td></td>\n",
       "      <td>As a result, I took the introduction to Power ...</td>\n",
       "      <td>0</td>\n",
       "      <td>0</td>\n",
       "      <td>0</td>\n",
       "      <td>1</td>\n",
       "    </tr>\n",
       "    <tr>\n",
       "      <th>2</th>\n",
       "      <td>2022-07-30 22:32:34+00:00</td>\n",
       "      <td>https://twitter.com/Temivc/status/155350887934...</td>\n",
       "      <td>Temivc</td>\n",
       "      <td>Twitter for Android</td>\n",
       "      <td>Federal Capital Territory, Nig</td>\n",
       "      <td>#30daysoflearning Learning  Didn't save my dat...</td>\n",
       "      <td>1</td>\n",
       "      <td>0</td>\n",
       "      <td>0</td>\n",
       "      <td>0</td>\n",
       "    </tr>\n",
       "    <tr>\n",
       "      <th>3</th>\n",
       "      <td>2022-07-30 20:41:18+00:00</td>\n",
       "      <td>https://twitter.com/Olaoluwa__Mercy/status/155...</td>\n",
       "      <td>Olaoluwa__Mercy</td>\n",
       "      <td>Twitter for Android</td>\n",
       "      <td>Ile-Ife</td>\n",
       "      <td>#30daysoflearning\\n@TheOyinbooke\\nThis week I ...</td>\n",
       "      <td>4</td>\n",
       "      <td>2</td>\n",
       "      <td>0</td>\n",
       "      <td>1</td>\n",
       "    </tr>\n",
       "    <tr>\n",
       "      <th>4</th>\n",
       "      <td>2022-07-30 19:13:26+00:00</td>\n",
       "      <td>https://twitter.com/arowoseun69/status/1553458...</td>\n",
       "      <td>arowoseun69</td>\n",
       "      <td>Twitter for Android</td>\n",
       "      <td></td>\n",
       "      <td>Data modeling and the world of DAX\\nI leant wh...</td>\n",
       "      <td>0</td>\n",
       "      <td>0</td>\n",
       "      <td>0</td>\n",
       "      <td>1</td>\n",
       "    </tr>\n",
       "  </tbody>\n",
       "</table>\n",
       "</div>"
      ],
      "text/plain": [
       "                       Date  \\\n",
       "0 2022-07-30 23:51:11+00:00   \n",
       "1 2022-07-30 23:34:15+00:00   \n",
       "2 2022-07-30 22:32:34+00:00   \n",
       "3 2022-07-30 20:41:18+00:00   \n",
       "4 2022-07-30 19:13:26+00:00   \n",
       "\n",
       "                                            TweetURL             User  \\\n",
       "0  https://twitter.com/_Mdapo/status/155352866383...           _Mdapo   \n",
       "1  https://twitter.com/_Mdapo/status/155352440267...           _Mdapo   \n",
       "2  https://twitter.com/Temivc/status/155350887934...           Temivc   \n",
       "3  https://twitter.com/Olaoluwa__Mercy/status/155...  Olaoluwa__Mercy   \n",
       "4  https://twitter.com/arowoseun69/status/1553458...      arowoseun69   \n",
       "\n",
       "                Source                        Location  \\\n",
       "0  Twitter for Android                                   \n",
       "1  Twitter for Android                                   \n",
       "2  Twitter for Android  Federal Capital Territory, Nig   \n",
       "3  Twitter for Android                         Ile-Ife   \n",
       "4  Twitter for Android                                   \n",
       "\n",
       "                                               Tweet  Likes_Count  \\\n",
       "0  I don't have one so I reached out to @GbemiAde...            0   \n",
       "1  As a result, I took the introduction to Power ...            0   \n",
       "2  #30daysoflearning Learning  Didn't save my dat...            1   \n",
       "3  #30daysoflearning\\n@TheOyinbooke\\nThis week I ...            4   \n",
       "4  Data modeling and the world of DAX\\nI leant wh...            0   \n",
       "\n",
       "   Retweet_Count  Quote_Count  Reply_Count  \n",
       "0              0            0            1  \n",
       "1              0            0            1  \n",
       "2              0            0            0  \n",
       "3              2            0            1  \n",
       "4              0            0            1  "
      ]
     },
     "execution_count": 3,
     "metadata": {},
     "output_type": "execute_result"
    }
   ],
   "source": [
    "df.head()"
   ]
  },
  {
   "cell_type": "code",
   "execution_count": 4,
   "id": "75b7f183",
   "metadata": {},
   "outputs": [
    {
     "data": {
      "text/plain": [
       "(1246, 10)"
      ]
     },
     "execution_count": 4,
     "metadata": {},
     "output_type": "execute_result"
    }
   ],
   "source": [
    "df.shape"
   ]
  },
  {
   "cell_type": "code",
   "execution_count": 5,
   "id": "e0868350",
   "metadata": {},
   "outputs": [
    {
     "data": {
      "text/plain": [
       "Index(['Date', 'TweetURL', 'User', 'Source', 'Location', 'Tweet',\n",
       "       'Likes_Count', 'Retweet_Count', 'Quote_Count', 'Reply_Count'],\n",
       "      dtype='object')"
      ]
     },
     "execution_count": 5,
     "metadata": {},
     "output_type": "execute_result"
    }
   ],
   "source": [
    "df.columns"
   ]
  },
  {
   "cell_type": "code",
   "execution_count": 6,
   "id": "6981c8d7",
   "metadata": {},
   "outputs": [
    {
     "data": {
      "text/plain": [
       "Index(['TweetURL', 'User', 'Source', 'Location', 'Tweet'], dtype='object')"
      ]
     },
     "execution_count": 6,
     "metadata": {},
     "output_type": "execute_result"
    }
   ],
   "source": [
    "df.select_dtypes(include='object').columns"
   ]
  },
  {
   "cell_type": "code",
   "execution_count": 7,
   "id": "88fa0183",
   "metadata": {},
   "outputs": [
    {
     "data": {
      "text/html": [
       "<div>\n",
       "<style scoped>\n",
       "    .dataframe tbody tr th:only-of-type {\n",
       "        vertical-align: middle;\n",
       "    }\n",
       "\n",
       "    .dataframe tbody tr th {\n",
       "        vertical-align: top;\n",
       "    }\n",
       "\n",
       "    .dataframe thead th {\n",
       "        text-align: right;\n",
       "    }\n",
       "</style>\n",
       "<table border=\"1\" class=\"dataframe\">\n",
       "  <thead>\n",
       "    <tr style=\"text-align: right;\">\n",
       "      <th></th>\n",
       "      <th>Likes_Count</th>\n",
       "      <th>Retweet_Count</th>\n",
       "      <th>Quote_Count</th>\n",
       "      <th>Reply_Count</th>\n",
       "    </tr>\n",
       "  </thead>\n",
       "  <tbody>\n",
       "    <tr>\n",
       "      <th>count</th>\n",
       "      <td>1246.000000</td>\n",
       "      <td>1246.000000</td>\n",
       "      <td>1246.000000</td>\n",
       "      <td>1246.000000</td>\n",
       "    </tr>\n",
       "    <tr>\n",
       "      <th>mean</th>\n",
       "      <td>14.707063</td>\n",
       "      <td>3.097913</td>\n",
       "      <td>0.151685</td>\n",
       "      <td>1.170947</td>\n",
       "    </tr>\n",
       "    <tr>\n",
       "      <th>std</th>\n",
       "      <td>46.606290</td>\n",
       "      <td>11.135459</td>\n",
       "      <td>0.688594</td>\n",
       "      <td>3.126077</td>\n",
       "    </tr>\n",
       "    <tr>\n",
       "      <th>min</th>\n",
       "      <td>0.000000</td>\n",
       "      <td>0.000000</td>\n",
       "      <td>0.000000</td>\n",
       "      <td>0.000000</td>\n",
       "    </tr>\n",
       "    <tr>\n",
       "      <th>25%</th>\n",
       "      <td>1.000000</td>\n",
       "      <td>0.000000</td>\n",
       "      <td>0.000000</td>\n",
       "      <td>0.000000</td>\n",
       "    </tr>\n",
       "    <tr>\n",
       "      <th>50%</th>\n",
       "      <td>2.000000</td>\n",
       "      <td>0.000000</td>\n",
       "      <td>0.000000</td>\n",
       "      <td>0.000000</td>\n",
       "    </tr>\n",
       "    <tr>\n",
       "      <th>75%</th>\n",
       "      <td>8.000000</td>\n",
       "      <td>2.000000</td>\n",
       "      <td>0.000000</td>\n",
       "      <td>1.000000</td>\n",
       "    </tr>\n",
       "    <tr>\n",
       "      <th>max</th>\n",
       "      <td>716.000000</td>\n",
       "      <td>273.000000</td>\n",
       "      <td>10.000000</td>\n",
       "      <td>51.000000</td>\n",
       "    </tr>\n",
       "  </tbody>\n",
       "</table>\n",
       "</div>"
      ],
      "text/plain": [
       "       Likes_Count  Retweet_Count  Quote_Count  Reply_Count\n",
       "count  1246.000000    1246.000000  1246.000000  1246.000000\n",
       "mean     14.707063       3.097913     0.151685     1.170947\n",
       "std      46.606290      11.135459     0.688594     3.126077\n",
       "min       0.000000       0.000000     0.000000     0.000000\n",
       "25%       1.000000       0.000000     0.000000     0.000000\n",
       "50%       2.000000       0.000000     0.000000     0.000000\n",
       "75%       8.000000       2.000000     0.000000     1.000000\n",
       "max     716.000000     273.000000    10.000000    51.000000"
      ]
     },
     "execution_count": 7,
     "metadata": {},
     "output_type": "execute_result"
    }
   ],
   "source": [
    "df.describe()"
   ]
  },
  {
   "cell_type": "code",
   "execution_count": 8,
   "id": "0dda95b9",
   "metadata": {},
   "outputs": [
    {
     "name": "stdout",
     "output_type": "stream",
     "text": [
      "<class 'pandas.core.frame.DataFrame'>\n",
      "RangeIndex: 1246 entries, 0 to 1245\n",
      "Data columns (total 10 columns):\n",
      " #   Column         Non-Null Count  Dtype              \n",
      "---  ------         --------------  -----              \n",
      " 0   Date           1246 non-null   datetime64[ns, UTC]\n",
      " 1   TweetURL       1246 non-null   object             \n",
      " 2   User           1246 non-null   object             \n",
      " 3   Source         1246 non-null   object             \n",
      " 4   Location       1246 non-null   object             \n",
      " 5   Tweet          1246 non-null   object             \n",
      " 6   Likes_Count    1246 non-null   int64              \n",
      " 7   Retweet_Count  1246 non-null   int64              \n",
      " 8   Quote_Count    1246 non-null   int64              \n",
      " 9   Reply_Count    1246 non-null   int64              \n",
      "dtypes: datetime64[ns, UTC](1), int64(4), object(5)\n",
      "memory usage: 97.5+ KB\n"
     ]
    }
   ],
   "source": [
    "df.info()"
   ]
  },
  {
   "cell_type": "code",
   "execution_count": 9,
   "id": "388417b7",
   "metadata": {},
   "outputs": [],
   "source": [
    "df.to_csv('clean_twitter_data.csv', index=False)"
   ]
  }
 ],
 "metadata": {
  "kernelspec": {
   "display_name": "Python 3",
   "language": "python",
   "name": "python3"
  },
  "language_info": {
   "codemirror_mode": {
    "name": "ipython",
    "version": 3
   },
   "file_extension": ".py",
   "mimetype": "text/x-python",
   "name": "python",
   "nbconvert_exporter": "python",
   "pygments_lexer": "ipython3",
   "version": "3.8.8"
  }
 },
 "nbformat": 4,
 "nbformat_minor": 5
}
